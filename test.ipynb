{
 "cells": [
  {
   "cell_type": "code",
   "execution_count": 1,
   "id": "23465410-e0e6-4e52-8716-4f214467dea6",
   "metadata": {},
   "outputs": [
    {
     "data": {
      "text/plain": [
       "array([[0.1, 0.1, 0.1, 0.5, 0.1],\n",
       "       [0.1, 0.1, 0.1, 0.1, 0.5],\n",
       "       [0.5, 0.1, 0.1, 0.1, 0.1],\n",
       "       [0.1, 0.1, 0.1, 0.1, 0.5],\n",
       "       [0.1, 0.1, 0.1, 0.5, 0.1],\n",
       "       [0.5, 0.1, 0.1, 0.1, 0.1],\n",
       "       [0.1, 0.1, 0.1, 0.1, 0.5],\n",
       "       [0.5, 0.1, 0.1, 0.1, 0.1],\n",
       "       [0.1, 0.1, 0.5, 0.1, 0.1],\n",
       "       [0.1, 0.5, 0.1, 0.1, 0.1],\n",
       "       [0.5, 0.1, 0.1, 0.1, 0.1],\n",
       "       [0.1, 0.1, 0.5, 0.1, 0.1],\n",
       "       [0.1, 0.1, 0.1, 0.5, 0.1],\n",
       "       [0.5, 0.1, 0.1, 0.1, 0.1],\n",
       "       [0.5, 0.1, 0.1, 0.1, 0.1],\n",
       "       [0.1, 0.1, 0.5, 0.1, 0.1],\n",
       "       [0.5, 0.1, 0.1, 0.1, 0.1],\n",
       "       [0.1, 0.1, 0.1, 0.1, 0.5],\n",
       "       [0.1, 0.1, 0.5, 0.1, 0.1],\n",
       "       [0.1, 0.1, 0.1, 0.1, 0.5],\n",
       "       [0.5, 0.1, 0.1, 0.1, 0.1],\n",
       "       [0.1, 0.5, 0.1, 0.1, 0.1],\n",
       "       [0.1, 0.5, 0.1, 0.1, 0.1],\n",
       "       [0.1, 0.1, 0.5, 0.1, 0.1],\n",
       "       [0.1, 0.1, 0.1, 0.5, 0.1]])"
      ]
     },
     "execution_count": 1,
     "metadata": {},
     "output_type": "execute_result"
    }
   ],
   "source": [
    "import numpy as np\n",
    "d = {1:0.5, 0:0.1}\n",
    "policy=np.eye(5)[np.random.randint(0,5,25)]\n",
    "np.vectorize(d.get)(policy)"
   ]
  },
  {
   "cell_type": "code",
   "execution_count": 3,
   "id": "34f8989a-4a88-4a0e-99f4-6cf60fd08c90",
   "metadata": {},
   "outputs": [
    {
     "data": {
      "text/plain": [
       "array([[0, 0],\n",
       "       [1, 0],\n",
       "       [2, 0],\n",
       "       [3, 0],\n",
       "       [4, 0],\n",
       "       [0, 1],\n",
       "       [1, 1],\n",
       "       [2, 1],\n",
       "       [3, 1],\n",
       "       [4, 1],\n",
       "       [0, 2],\n",
       "       [1, 2],\n",
       "       [2, 2],\n",
       "       [3, 2],\n",
       "       [4, 2],\n",
       "       [0, 3],\n",
       "       [1, 3],\n",
       "       [2, 3],\n",
       "       [3, 3],\n",
       "       [4, 3],\n",
       "       [0, 4],\n",
       "       [1, 4],\n",
       "       [2, 4],\n",
       "       [3, 4],\n",
       "       [4, 4]])"
      ]
     },
     "execution_count": 3,
     "metadata": {},
     "output_type": "execute_result"
    }
   ],
   "source": [
    "state=np.array([[j,i] for i in range(5) for j in range(5)])\n",
    "state"
   ]
  },
  {
   "cell_type": "code",
   "execution_count": 10,
   "id": "8a6d534b-2e58-4336-adba-5b83d8302303",
   "metadata": {},
   "outputs": [
    {
     "data": {
      "text/plain": [
       "array([[2., 0.],\n",
       "       [2., 0.],\n",
       "       [2., 0.],\n",
       "       [2., 0.],\n",
       "       [2., 0.]])"
      ]
     },
     "execution_count": 10,
     "metadata": {},
     "output_type": "execute_result"
    }
   ],
   "source": [
    "np.hstack((a//3,a%3))"
   ]
  },
  {
   "cell_type": "code",
   "execution_count": null,
   "id": "4f6c54f2-64ab-4186-b7a0-d5cf40b0876d",
   "metadata": {},
   "outputs": [],
   "source": []
  }
 ],
 "metadata": {
  "kernelspec": {
   "display_name": "mind",
   "language": "python",
   "name": "mind"
  },
  "language_info": {
   "codemirror_mode": {
    "name": "ipython",
    "version": 3
   },
   "file_extension": ".py",
   "mimetype": "text/x-python",
   "name": "python",
   "nbconvert_exporter": "python",
   "pygments_lexer": "ipython3",
   "version": "3.10.16"
  }
 },
 "nbformat": 4,
 "nbformat_minor": 5
}
