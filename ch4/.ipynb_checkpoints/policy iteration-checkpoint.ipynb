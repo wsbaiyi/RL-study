{
 "cells": [
  {
   "cell_type": "code",
   "execution_count": 9,
   "id": "ace3d0b0-64eb-48a5-858f-e28d96dd14ed",
   "metadata": {},
   "outputs": [],
   "source": [
    "import sys\n",
    "sys.path.append('..')\n",
    "from GridWorld_v1 import GridWorld_v1"
   ]
  },
  {
   "cell_type": "code",
   "execution_count": 10,
   "id": "5753d351-b451-4f0b-9995-dbfc2853f79d",
   "metadata": {},
   "outputs": [
    {
     "name": "stdout",
     "output_type": "stream",
     "text": [
      "⬜️⬜️⬜️⬜️⬜️\n",
      "⬜️🚫🚫⬜️⬜️\n",
      "⬜️⬜️🚫⬜️⬜️\n",
      "⬜️🚫✅🚫⬜️\n",
      "⬜️🚫⬜️⬜️⬜️\n"
     ]
    }
   ],
   "source": [
    "env=GridWorld_v1(forbiddenScore=-10, score=1,desc = [\".....\",\".##..\",\"..#..\",\".#T#.\",\".#...\"]) \n",
    "env.show()"
   ]
  },
  {
   "cell_type": "code",
   "execution_count": 11,
   "id": "367c5403-ea40-440f-b37e-c6b2f9c02f38",
   "metadata": {},
   "outputs": [
    {
     "name": "stdout",
     "output_type": "stream",
     "text": [
      "⬆️⬆️⬆️⬆️⬆️\n",
      "⬆️⏫️⏫️⬆️⬆️\n",
      "⬆️⬆️⏫️⬆️⬆️\n",
      "⬆️⏫️✅⏫️⬆️\n",
      "⬆️⏫️⬆️⬆️⬆️\n"
     ]
    }
   ],
   "source": [
    "import numpy as np\n",
    "value=np.zeros(5*5)\n",
    "q_table=np.zeros((5*5,5))\n",
    "policy=np.argmax(q_table,axis=1)\n",
    "env.showPolicy(policy)"
   ]
  },
  {
   "cell_type": "code",
   "execution_count": 13,
   "id": "4a0bf97c-8486-457c-9fae-c5f9d08411bb",
   "metadata": {},
   "outputs": [
    {
     "name": "stdout",
     "output_type": "stream",
     "text": [
      "⬇️➡️➡️⬇️⬇️\n",
      "⬇️⏪⏩️➡️⬅️\n",
      "⬇️⬅️⏬⬆️⬆️\n",
      "⬇️⏪✅⏪🔄\n",
      "🔄⏪🔄⬅️⬆️\n",
      "➡️➡️➡️➡️⬇️\n",
      "⬆️⏫️⏩️➡️⬇️\n",
      "➡️🔄⏬➡️🔄\n",
      "⬆️⏩️✅⏪⬆️\n",
      "⬆️⏪⬆️🔄⬅️\n",
      "⬇️➡️➡️➡️⬇️\n",
      "🔄⏪⏫️⬆️⬆️\n",
      "⬆️⬅️⏬⬆️⬇️\n",
      "⬇️⏩️✅⏪🔄\n",
      "🔄⏩️⬆️⬅️⬆️\n",
      "➡️➡️➡️➡️⬇️\n",
      "⬇️⏫️⏩️➡️🔄\n",
      "➡️🔄⏬🔄⬆️\n",
      "⬆️⏩️✅⏪⬇️\n",
      "⬆️⏩️⬆️⬅️⬅️\n",
      "➡️➡️➡️➡️⬇️\n",
      "⬆️⏫️⏫️⬆️⬇️\n",
      "⬇️⬅️⏬➡️⬇️\n",
      "⬇️⏩️✅⏪⬇️\n",
      "🔄⏩️⬆️⬅️⬅️\n",
      "➡️➡️➡️➡️⬇️\n",
      "⬆️⏫️⏩️➡️⬇️\n",
      "⬆️🔄⏬➡️⬇️\n",
      "⬆️⏩️✅⏪⬇️\n",
      "⬆️⏩️⬆️⬅️⬅️\n",
      "➡️➡️➡️➡️⬇️\n",
      "⬆️⏫️⏩️➡️⬇️\n",
      "⬆️⬅️⏬➡️⬇️\n",
      "⬆️⏩️✅⏪⬇️\n",
      "⬆️⏩️⬆️⬅️⬅️\n",
      "➡️➡️➡️➡️⬇️\n",
      "⬆️⏫️⏩️➡️⬇️\n",
      "⬆️⬅️⏬➡️⬇️\n",
      "⬆️⏩️✅⏪⬇️\n",
      "⬆️⏩️⬆️⬅️⬅️\n",
      "➡️➡️➡️➡️⬇️\n",
      "⬆️⏫️⏩️➡️⬇️\n",
      "⬆️⬅️⏬➡️⬇️\n",
      "⬆️⏩️✅⏪⬇️\n",
      "⬆️⏩️⬆️⬅️⬅️\n",
      "[3.44900845 3.83642894 4.26689615 4.74519305 5.27663405 3.1041076\n",
      " 3.45278604 4.74519305 5.27663405 5.86712405 2.79369684 2.51432716\n",
      " 9.94818113 5.86712405 6.52322405 2.51432716 9.94818113 9.94818113\n",
      " 9.95336302 7.25222405 2.26289444 8.95336302 9.95336302 8.95802672\n",
      " 8.06222405]\n",
      "➡️➡️➡️➡️⬇️\n",
      "⬆️⏫️⏩️➡️⬇️\n",
      "⬆️⬅️⏬➡️⬇️\n",
      "⬆️⏩️✅⏪⬇️\n",
      "⬆️⏩️⬆️⬅️⬅️\n"
     ]
    }
   ],
   "source": [
    "gamma=0.9\n",
    "rows=5\n",
    "columns=5\n",
    "new_value=value.copy()+1\n",
    "\n",
    "\n",
    "while(np.sum((new_value-value)**2))>0.001:\n",
    "    new_value=value.copy()\n",
    "    \n",
    "    # policy evaluation\n",
    "    truncated=10\n",
    "    value0=value.copy()+1\n",
    "    while(np.sum((value0-value)**2))>0.001:\n",
    "        value0=value.copy()\n",
    "        truncated-=1\n",
    "        if truncated<0:\n",
    "            break\n",
    "        for state in range(25):\n",
    "            action=policy[state]\n",
    "            reward,new_state=env.getNewState(state,action)\n",
    "            value[state]=reward+gamma*value[new_state] \n",
    "    # policy improvement \n",
    "    for state in range(25):\n",
    "        for action in range(5):\n",
    "            reward,new_state=env.getNewState(state,action)\n",
    "            \n",
    "            q_table[state][action]=reward+gamma*value[new_state]\n",
    "\n",
    "        # update policy\n",
    "        policy=np.argmax(q_table,axis=1)\n",
    "    env.showPolicy(policy)\n",
    "print(value)\n",
    "env.showPolicy(policy)"
   ]
  },
  {
   "cell_type": "code",
   "execution_count": null,
   "id": "6fb13e0a-7af5-4717-82d8-13328110ee06",
   "metadata": {},
   "outputs": [],
   "source": []
  },
  {
   "cell_type": "code",
   "execution_count": null,
   "id": "37ad6a4c-6ac3-4001-aad9-7716273956a6",
   "metadata": {},
   "outputs": [],
   "source": []
  }
 ],
 "metadata": {
  "kernelspec": {
   "display_name": "mind",
   "language": "python",
   "name": "mind"
  },
  "language_info": {
   "codemirror_mode": {
    "name": "ipython",
    "version": 3
   },
   "file_extension": ".py",
   "mimetype": "text/x-python",
   "name": "python",
   "nbconvert_exporter": "python",
   "pygments_lexer": "ipython3",
   "version": "3.10.16"
  }
 },
 "nbformat": 4,
 "nbformat_minor": 5
}
