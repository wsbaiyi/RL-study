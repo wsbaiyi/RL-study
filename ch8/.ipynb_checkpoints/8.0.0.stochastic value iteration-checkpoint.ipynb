{
 "cells": [
  {
   "cell_type": "code",
   "execution_count": 4,
   "id": "4ca6f218-2092-47fd-b05c-a91f18533a4b",
   "metadata": {},
   "outputs": [],
   "source": [
    "import numpy as np     #只需要下载numpy库即可\n",
    "import random\n",
    "import sys\n",
    "sys.path.append('..')\n",
    "from draw import draw  #绘图函数\n",
    "from GridWorld_v3 import GridWorld_v3"
   ]
  },
  {
   "cell_type": "code",
   "execution_count": null,
   "id": "d31e2055-c714-4c67-8c60-c37af73b4842",
   "metadata": {},
   "outputs": [],
   "source": [
    "rows = 5      #记得行数和列数这里要同步改\n",
    "columns = 5\n",
    "gridworld = GridWorld_v3(forbiddenAreaScore=-1, score=1,desc = [\".....\",\".##..\",\"..#..\",\".#T#.\",\".#...\"]) \n",
    "gridworld.show()\n",
    "trajectorySteps = 1000"
   ]
  }
 ],
 "metadata": {
  "kernelspec": {
   "display_name": "mind",
   "language": "python",
   "name": "mind"
  },
  "language_info": {
   "codemirror_mode": {
    "name": "ipython",
    "version": 3
   },
   "file_extension": ".py",
   "mimetype": "text/x-python",
   "name": "python",
   "nbconvert_exporter": "python",
   "pygments_lexer": "ipython3",
   "version": "3.10.16"
  }
 },
 "nbformat": 4,
 "nbformat_minor": 5
}
