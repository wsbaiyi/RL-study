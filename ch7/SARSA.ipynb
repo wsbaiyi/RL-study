{
 "cells": [
  {
   "cell_type": "code",
   "execution_count": 21,
   "id": "c49929da-e406-44c4-af24-c9be6c249199",
   "metadata": {},
   "outputs": [
    {
     "name": "stdout",
     "output_type": "stream",
     "text": [
      "⬜️⬜️⬜️⬜️⬜️\n",
      "⬜️🚫🚫⬜️⬜️\n",
      "⬜️⬜️🚫⬜️⬜️\n",
      "⬜️🚫✅🚫⬜️\n",
      "⬜️🚫⬜️⬜️⬜️\n"
     ]
    }
   ],
   "source": [
    "import numpy as np\n",
    "import matplotlib.pyplot as  plt\n",
    "import sys\n",
    "from IPython.display import clear_output\n",
    "sys.path.append('..')\n",
    "from GridWorld_v2 import GridWorld_v2\n",
    "env=GridWorld_v2(forbiddenScore=-5000, score=100,desc = [\".....\",\".##..\",\"..#..\",\".#T#.\",\".#...\"]) \n",
    "env.show()"
   ]
  },
  {
   "cell_type": "code",
   "execution_count": 26,
   "id": "1c8a2aff-281f-40e6-b580-8079d5c4af61",
   "metadata": {},
   "outputs": [],
   "source": [
    "# 估计action value\n",
    "def SARSA(gridworld,gamma = 0.9,trajectorySteps=-1, learning_rate=0.001, final_epsilon=0.01, num_episodes=600):\n",
    "    # TD error----TD target\n",
    "    epsilon=0.5\n",
    "    policy=np.eye(5)[np.random.randint(0,5,25)]\n",
    "    q_table=np.zeros((25,5))\n",
    "    state_value=np.zeros(25)\n",
    "\n",
    "    for num in range(num_episodes):\n",
    "        clear_output(wait=True)\n",
    "        if epsilon>final_epsilon:\n",
    "            epsilon-=0.001\n",
    "        else:\n",
    "            epsilon=final_epsilon\n",
    "    \n",
    "        d={1:1-epsilon*(4/5),0:epsilon/5}\n",
    "        policy_epsilon=np.vectorize(d.get)(policy)\n",
    "\n",
    "        if trajectorySteps==-1:\n",
    "            stop_when_target=True\n",
    "    \n",
    "        Trajectory=env.getTrajectoryScore(action=np.random.randint(0,5),policy=policy,state=np.random.randint(0,5),step=500,stop_when_target=True)\n",
    "\n",
    "        # 自转\n",
    "        Trajectory.append((17,4,1,17,4))\n",
    "        \n",
    "        # 估计action value\n",
    "        for step in range(len(Trajectory)-1,-1,-1):\n",
    "            now_state,now_action,reward,next_state,next_action=Trajectory[step]\n",
    "            TD_error=q_table[now_state][now_action]-(reward+gamma*q_table[next_state][next_action])\n",
    "            q_table[now_state]-=learning_rate*TD_error\n",
    "        # 得到policy\n",
    "        policy=np.eye(5)[np.argmax(q_table,axis=1)]\n",
    "        policy_epsilon=np.vectorize(d.get)(policy)\n",
    "        # state value\n",
    "        state_value=np.sum(policy_epsilon*q_table,axis=1)\n",
    "        print('state value',state_value.reshape(5,5))\n",
    "        print(env.showPolicy(policy))"
   ]
  },
  {
   "cell_type": "code",
   "execution_count": 27,
   "id": "cb6503a5-8cd5-42aa-b425-dd41120d3cae",
   "metadata": {},
   "outputs": [
    {
     "name": "stdout",
     "output_type": "stream",
     "text": [
      "state value [[ -9.99974114 -12.32559681 -12.28742164 -10.00095873  -9.99056706]\n",
      " [ -0.19150214  -0.20410415  -0.25850836  -0.20062004  -0.22756846]\n",
      " [  0.           0.           0.           0.           0.        ]\n",
      " [  0.           0.           0.58238292   0.           0.        ]\n",
      " [  0.           0.           0.           0.           0.        ]]\n",
      "⬆️⬆️⬆️⬆️⬆️\n",
      "⬆️⏫️⏫️⬆️⬆️\n",
      "⬆️⬆️⏫️⬆️⬆️\n",
      "⬆️⏫️✅⏫️⬆️\n",
      "⬆️⏫️⬆️⬆️⬆️\n",
      "None\n"
     ]
    }
   ],
   "source": [
    "SARSA(env)"
   ]
  },
  {
   "cell_type": "code",
   "execution_count": null,
   "id": "6304849f-c125-4b98-98ab-9e475861963e",
   "metadata": {},
   "outputs": [],
   "source": []
  }
 ],
 "metadata": {
  "kernelspec": {
   "display_name": "mind",
   "language": "python",
   "name": "mind"
  },
  "language_info": {
   "codemirror_mode": {
    "name": "ipython",
    "version": 3
   },
   "file_extension": ".py",
   "mimetype": "text/x-python",
   "name": "python",
   "nbconvert_exporter": "python",
   "pygments_lexer": "ipython3",
   "version": "3.10.16"
  }
 },
 "nbformat": 4,
 "nbformat_minor": 5
}
