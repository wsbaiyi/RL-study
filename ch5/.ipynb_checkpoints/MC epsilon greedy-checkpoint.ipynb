{
 "cells": [
  {
   "cell_type": "code",
   "execution_count": 12,
   "id": "57abcf22-7226-423e-ae48-ffbbe47a6858",
   "metadata": {},
   "outputs": [
    {
     "name": "stdout",
     "output_type": "stream",
     "text": [
      "⬜️⬜️⬜️⬜️⬜️\n",
      "⬜️🚫🚫⬜️⬜️\n",
      "⬜️⬜️🚫⬜️⬜️\n",
      "⬜️🚫✅🚫⬜️\n",
      "⬜️🚫⬜️⬜️⬜️\n"
     ]
    }
   ],
   "source": [
    "import sys\n",
    "sys.path.append('..')\n",
    "import numpy as np\n",
    "import random\n",
    "from GridWorld_v2 import GridWorld_v2\n",
    "\n",
    "env=GridWorld_v2(forbiddenScore=-10, score=1,desc = [\".....\",\".##..\",\"..#..\",\".#T#.\",\".#...\"]) \n",
    "env.show()\n",
    "\n",
    "value=np.zeros(25)\n",
    "q_table=np.zeros((25,5))\n",
    "policy=np.eye(5)[np.random.randint(0,5,size=25)]"
   ]
  },
  {
   "cell_type": "code",
   "execution_count": 18,
   "id": "c7030270-61b7-402b-bff1-da00d76e34cd",
   "metadata": {},
   "outputs": [
    {
     "name": "stdout",
     "output_type": "stream",
     "text": [
      "value [[3.48485022 3.87085813 4.30058665 4.78153499 5.31262825]\n",
      " [3.13566119 3.48188481 4.7762676  5.31094322 5.90210184]\n",
      " [2.82325937 2.53851749 9.9898     5.90073267 6.55779506]\n",
      " [2.54075919 9.99233507 9.9887018  9.9947322  7.2863924 ]\n",
      " [2.28630445 8.99405178 9.99664    8.997098   8.0973482 ]]\n",
      "mean 6.013671384251982\n",
      "➡️➡️➡️➡️⬇️\n",
      "⬆️⏫️⏩️➡️⬇️\n",
      "⬆️⬅️⏬➡️⬇️\n",
      "⬆️⏩️✅⏪⬇️\n",
      "⬆️⏩️⬆️⬅️⬅️\n"
     ]
    }
   ],
   "source": [
    "from IPython.display import clear_output\n",
    "eposidenum=200\n",
    "\n",
    "# 越小exploitation\n",
    "# 越大exploration\n",
    "epsilon=0.1\n",
    "trajectorySteps=20000\n",
    "gamma=0.9\n",
    "\n",
    "# epsilon选择策略\n",
    "for i in range(eposidenum):\n",
    "    if epsilon>0.001:\n",
    "        epsilon-=0.001\n",
    "    else:\n",
    "        epsilon=0.001\n",
    "\n",
    "\n",
    "    \n",
    "    d={1:1-epsilon*(4/5),0:epsilon/5}\n",
    "    policy_epsilon=np.vectorize(d.get)(policy)\n",
    "\n",
    "    state=random.randint(0,24)\n",
    "    action=random.randint(0,4)\n",
    "\n",
    "    q_table_reward=[[0 for j in range(5)] for i in range(25)]\n",
    "    q_table_num=[[0 for j in range(5)] for i in range(25)]\n",
    "    \n",
    "    Traject=env.getTrajectoryScore(trajectorySteps,state,policy,action,stop_when_target=False)\n",
    "    score=0\n",
    "    clear_output(wait=True)\n",
    "    for step in range(trajectorySteps,-1,-1):\n",
    "        tmpState,tmpAction,tmpReward,_,_=Traject[step]\n",
    "        score=score*gamma+tmpReward\n",
    "        q_table_reward[tmpState][tmpAction]+=score\n",
    "        q_table_num[tmpState][tmpAction]+=1\n",
    "\n",
    "        q_table[tmpState][tmpAction]=q_table_reward[tmpState][tmpAction]/q_table_num[tmpState][tmpAction]\n",
    "\n",
    "\n",
    "    # 得到state value\n",
    "    value=[]\n",
    "    for i in range(25):\n",
    "        v=0\n",
    "        for j in range(5):\n",
    "            v+=policy_epsilon[i][j]*q_table[i][j]\n",
    "        value.append(v)\n",
    "    value=np.array(value)\n",
    "    policy=np.eye(5)[np.argmax(q_table,axis=1)]\n",
    "\n",
    "    print('value',value.reshape(5,5))\n",
    "    print('mean',value.mean())\n",
    "    env.showPolicy(policy)\n",
    "    \n",
    "    "
   ]
  },
  {
   "cell_type": "code",
   "execution_count": null,
   "id": "ee60ab25-0014-48e3-b57c-d0978ab0ea0e",
   "metadata": {},
   "outputs": [],
   "source": []
  }
 ],
 "metadata": {
  "kernelspec": {
   "display_name": "mind",
   "language": "python",
   "name": "mind"
  },
  "language_info": {
   "codemirror_mode": {
    "name": "ipython",
    "version": 3
   },
   "file_extension": ".py",
   "mimetype": "text/x-python",
   "name": "python",
   "nbconvert_exporter": "python",
   "pygments_lexer": "ipython3",
   "version": "3.10.16"
  }
 },
 "nbformat": 4,
 "nbformat_minor": 5
}
