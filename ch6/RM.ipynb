{
 "cells": [
  {
   "cell_type": "code",
   "execution_count": 1,
   "id": "66b282e9-4721-4714-b77f-ea8c03c7f0be",
   "metadata": {},
   "outputs": [],
   "source": [
    "import numpy as np"
   ]
  },
  {
   "cell_type": "code",
   "execution_count": 33,
   "id": "b045a78d-4a95-4f07-a5f5-7732154eef37",
   "metadata": {},
   "outputs": [],
   "source": [
    "# 对均值进行估计"
   ]
  },
  {
   "cell_type": "code",
   "execution_count": 32,
   "id": "59fc5868-3f91-45d6-9b8d-c1a32f076225",
   "metadata": {},
   "outputs": [
    {
     "data": {
      "text/plain": [
       "(array([  0.,   0.,   0.,   0.,   0.,   0.,   0.,   0.,   0.,   0.,   0.,\n",
       "          1.,   0.,   0.,   2.,   0.,   1.,   3.,   6.,   6.,   6.,   7.,\n",
       "          9.,  15.,  12.,  22.,  32.,  33.,  31.,  50.,  64.,  84., 112.,\n",
       "         97., 122., 158., 150., 194., 217., 240., 241., 264., 282., 338.,\n",
       "        324., 394., 358., 379., 383., 387., 371., 377., 408., 384., 368.,\n",
       "        339., 352., 291., 270., 252., 236., 205., 163., 168., 134., 118.,\n",
       "        102.,  84.,  70.,  62.,  39.,  50.,  25.,  34.,  24.,  16.,  11.,\n",
       "          8.,   2.,   4.,   0.,   3.,   2.,   0.,   0.,   3.,   1.,   0.,\n",
       "          0.,   0.,   0.,   0.,   0.,   0.,   0.,   0.,   0.,   0.,   0.,\n",
       "          0.]),\n",
       " array([ 5. ,  5.1,  5.2,  5.3,  5.4,  5.5,  5.6,  5.7,  5.8,  5.9,  6. ,\n",
       "         6.1,  6.2,  6.3,  6.4,  6.5,  6.6,  6.7,  6.8,  6.9,  7. ,  7.1,\n",
       "         7.2,  7.3,  7.4,  7.5,  7.6,  7.7,  7.8,  7.9,  8. ,  8.1,  8.2,\n",
       "         8.3,  8.4,  8.5,  8.6,  8.7,  8.8,  8.9,  9. ,  9.1,  9.2,  9.3,\n",
       "         9.4,  9.5,  9.6,  9.7,  9.8,  9.9, 10. , 10.1, 10.2, 10.3, 10.4,\n",
       "        10.5, 10.6, 10.7, 10.8, 10.9, 11. , 11.1, 11.2, 11.3, 11.4, 11.5,\n",
       "        11.6, 11.7, 11.8, 11.9, 12. , 12.1, 12.2, 12.3, 12.4, 12.5, 12.6,\n",
       "        12.7, 12.8, 12.9, 13. , 13.1, 13.2, 13.3, 13.4, 13.5, 13.6, 13.7,\n",
       "        13.8, 13.9, 14. , 14.1, 14.2, 14.3, 14.4, 14.5, 14.6, 14.7, 14.8,\n",
       "        14.9, 15. ]),\n",
       " <BarContainer object of 100 artists>)"
      ]
     },
     "execution_count": 32,
     "metadata": {},
     "output_type": "execute_result"
    },
    {
     "data": {
      "image/png": "[encoded data removed]",
      "text/plain": [
       "<Figure size 640x480 with 1 Axes>"
      ]
     },
     "metadata": {},
     "output_type": "display_data"
    }
   ],
   "source": [
    "# mean estimation\n",
    "f=lambda x:x**3-5\n",
    "x=np.random.normal(10,1,10000)\n",
    "import matplotlib.pyplot as plt\n",
    "plt.hist(x,range=(5,15),bins=100)"
   ]
  },
  {
   "cell_type": "code",
   "execution_count": 25,
   "id": "e87aab94-9bb4-43e3-9d39-ed5bb7c85bce",
   "metadata": {},
   "outputs": [
    {
     "data": {
      "text/plain": [
       "1022.6467974212724"
      ]
     },
     "execution_count": 25,
     "metadata": {},
     "output_type": "execute_result"
    }
   ],
   "source": [
    "mean=0\n",
    "for  i in range(1,10000):\n",
    "    mean=mean-1/i*(mean-f(x[i-1]))\n",
    "mean"
   ]
  },
  {
   "cell_type": "code",
   "execution_count": 31,
   "id": "b255b4d7-ba17-42ef-9390-3141855dfc27",
   "metadata": {},
   "outputs": [
    {
     "name": "stdout",
     "output_type": "stream",
     "text": [
      "1.709975946676698\n",
      "[-1.0, 2.0, 1.0, 2.0, 1.4, 1.776, 1.6900262034285713, 1.7116470131387955, 1.7100166782797486, 1.7099809474497056, 1.7099769595246843, 1.7099762191278756, 1.7099760352850588, 1.7099759797652512, 1.709975960414947, 1.7099759528829057, 1.7099759496804825, 1.7099759482166288, 1.7099759475056624, 1.709975947142076]\n"
     ]
    }
   ],
   "source": [
    "# RM\n",
    "f=lambda x:x**3-5\n",
    "# 选取的初值条件很苛刻，因为f的梯度是二次\n",
    "w=2\n",
    "a=0.5\n",
    "res=[]\n",
    "for i in range(65535):\n",
    "    w=w-1/(i+1)*f(w)\n",
    "    res.append(w)\n",
    "print(w)\n",
    "print(res[:20])"
   ]
  },
  {
   "cell_type": "code",
   "execution_count": null,
   "id": "4998371d-0fff-41f8-a208-7d4fc2dbe660",
   "metadata": {},
   "outputs": [],
   "source": []
  }
 ],
 "metadata": {
  "kernelspec": {
   "display_name": "mind",
   "language": "python",
   "name": "mind"
  },
  "language_info": {
   "codemirror_mode": {
    "name": "ipython",
    "version": 3
   },
   "file_extension": ".py",
   "mimetype": "text/x-python",
   "name": "python",
   "nbconvert_exporter": "python",
   "pygments_lexer": "ipython3",
   "version": "3.10.16"
  }
 },
 "nbformat": 4,
 "nbformat_minor": 5
}
